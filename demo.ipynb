{
 "cells": [
  {
   "cell_type": "code",
   "execution_count": 1,
   "metadata": {
    "collapsed": true
   },
   "outputs": [],
   "source": [
    "import numpy as np\n",
    "import pandas as pd"
   ]
  },
  {
   "cell_type": "code",
   "execution_count": 2,
   "metadata": {
    "collapsed": false
   },
   "outputs": [],
   "source": [
    "import sys\n",
    "sys.path.insert(0,'concentration_library')\n",
    "\n",
    "import concentration_library as cl"
   ]
  },
  {
   "cell_type": "code",
   "execution_count": 3,
   "metadata": {
    "collapsed": false
   },
   "outputs": [
    {
     "data": {
      "text/html": [
       "<div>\n",
       "<table border=\"1\" class=\"dataframe\">\n",
       "  <thead>\n",
       "    <tr style=\"text-align: right;\">\n",
       "      <th></th>\n",
       "      <th>id</th>\n",
       "      <th>firstName</th>\n",
       "      <th>lastName</th>\n",
       "      <th>age</th>\n",
       "      <th>btc</th>\n",
       "      <th>relationship</th>\n",
       "      <th>gender</th>\n",
       "      <th>income</th>\n",
       "    </tr>\n",
       "  </thead>\n",
       "  <tbody>\n",
       "    <tr>\n",
       "      <th>0</th>\n",
       "      <td>1</td>\n",
       "      <td>Bucky</td>\n",
       "      <td>Roberts</td>\n",
       "      <td>30</td>\n",
       "      <td>4.8501</td>\n",
       "      <td>single</td>\n",
       "      <td>male</td>\n",
       "      <td>170360.87</td>\n",
       "    </tr>\n",
       "    <tr>\n",
       "      <th>1</th>\n",
       "      <td>2</td>\n",
       "      <td>Lisa</td>\n",
       "      <td>Gallagher</td>\n",
       "      <td>11</td>\n",
       "      <td>3.2479</td>\n",
       "      <td>single</td>\n",
       "      <td>female</td>\n",
       "      <td>57971.61</td>\n",
       "    </tr>\n",
       "    <tr>\n",
       "      <th>2</th>\n",
       "      <td>3</td>\n",
       "      <td>Emma</td>\n",
       "      <td>Williams</td>\n",
       "      <td>47</td>\n",
       "      <td>2.7959</td>\n",
       "      <td>not single</td>\n",
       "      <td>female</td>\n",
       "      <td>200805.93</td>\n",
       "    </tr>\n",
       "    <tr>\n",
       "      <th>3</th>\n",
       "      <td>4</td>\n",
       "      <td>Tony</td>\n",
       "      <td>Masters</td>\n",
       "      <td>45</td>\n",
       "      <td>0.0625</td>\n",
       "      <td>not single</td>\n",
       "      <td>male</td>\n",
       "      <td>5045.13</td>\n",
       "    </tr>\n",
       "    <tr>\n",
       "      <th>4</th>\n",
       "      <td>5</td>\n",
       "      <td>Mike</td>\n",
       "      <td>Smith</td>\n",
       "      <td>15</td>\n",
       "      <td>1.3822</td>\n",
       "      <td>single</td>\n",
       "      <td>male</td>\n",
       "      <td>26459.47</td>\n",
       "    </tr>\n",
       "  </tbody>\n",
       "</table>\n",
       "</div>"
      ],
      "text/plain": [
       "   id firstName   lastName  age     btc relationship  gender     income\n",
       "0   1     Bucky    Roberts   30  4.8501       single    male  170360.87\n",
       "1   2      Lisa  Gallagher   11  3.2479       single  female   57971.61\n",
       "2   3      Emma   Williams   47  2.7959   not single  female  200805.93\n",
       "3   4      Tony    Masters   45  0.0625   not single    male    5045.13\n",
       "4   5      Mike      Smith   15  1.3822       single    male   26459.47"
      ]
     },
     "execution_count": 3,
     "metadata": {},
     "output_type": "execute_result"
    }
   ],
   "source": [
    "data_set = pd.read_csv('../data/users_dataset.csv')\n",
    "data_set.head()"
   ]
  },
  {
   "cell_type": "code",
   "execution_count": 4,
   "metadata": {
    "collapsed": false
   },
   "outputs": [],
   "source": [
    "income = data_set.income.values"
   ]
  },
  {
   "cell_type": "code",
   "execution_count": 5,
   "metadata": {
    "collapsed": true
   },
   "outputs": [],
   "source": [
    "gini = cl.gini(income)"
   ]
  },
  {
   "cell_type": "code",
   "execution_count": 6,
   "metadata": {
    "collapsed": false
   },
   "outputs": [],
   "source": [
    "atkinson0 = cl.atkinson(income,0)\n",
    "atkinson05 = cl.atkinson(income,0.5)\n",
    "atkinson1 = cl.atkinson(income,1)"
   ]
  },
  {
   "cell_type": "code",
   "execution_count": 7,
   "metadata": {
    "collapsed": false
   },
   "outputs": [],
   "source": [
    "theil = cl.theil(income)"
   ]
  },
  {
   "cell_type": "code",
   "execution_count": 8,
   "metadata": {
    "collapsed": false
   },
   "outputs": [
    {
     "name": "stdout",
     "output_type": "stream",
     "text": [
      "Gini: 0.44451073081\n",
      "Atkinson epsilon=0: -2.22044604925e-16\n",
      "Atkinson epsilon=0.5: 0.170146049026\n",
      "Atkinson epsilon=1: 0.350512160005\n",
      "Theil: 0.324566254001\n"
     ]
    }
   ],
   "source": [
    "print(\"Gini:\", gini)\n",
    "print(\"Atkinson epsilon=0:\", atkinson0)\n",
    "print(\"Atkinson epsilon=0.5:\", atkinson05)\n",
    "print(\"Atkinson epsilon=1:\", atkinson1)\n",
    "print(\"Theil:\", theil)"
   ]
  },
  {
   "cell_type": "code",
   "execution_count": null,
   "metadata": {
    "collapsed": true
   },
   "outputs": [],
   "source": []
  }
 ],
 "metadata": {
  "kernelspec": {
   "display_name": "Python 3",
   "language": "python",
   "name": "python3"
  },
  "language_info": {
   "codemirror_mode": {
    "name": "ipython",
    "version": 3
   },
   "file_extension": ".py",
   "mimetype": "text/x-python",
   "name": "python",
   "nbconvert_exporter": "python",
   "pygments_lexer": "ipython3",
   "version": "3.6.0"
  }
 },
 "nbformat": 4,
 "nbformat_minor": 2
}
